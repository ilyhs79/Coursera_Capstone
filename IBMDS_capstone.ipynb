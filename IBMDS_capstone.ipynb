{
  "nbformat": 4,
  "nbformat_minor": 0,
  "metadata": {
    "colab": {
      "name": "IBMDS_capstone.ipynb",
      "provenance": [],
      "authorship_tag": "ABX9TyOH6NgP/tPh5DNy53MjeTyR"
    },
    "kernelspec": {
      "name": "python3",
      "display_name": "Python 3"
    }
  },
  "cells": [
    {
      "cell_type": "markdown",
      "metadata": {
        "id": "sVOyWHADXdS-",
        "colab_type": "text"
      },
      "source": [
        "This notebook will be mainly used for the capstone project.\n"
      ]
    },
    {
      "cell_type": "code",
      "metadata": {
        "id": "HCEmaii9Xfb6",
        "colab_type": "code",
        "outputId": "9e8aad8c-8094-40e2-dfc1-71120f8a4a44",
        "colab": {
          "base_uri": "https://localhost:8080/",
          "height": 34
        }
      },
      "source": [
        "import pandas as pd\n",
        "import numpy as np\n",
        "\n",
        "print (\"Hello Capstone Project Course!\")"
      ],
      "execution_count": 0,
      "outputs": [
        {
          "output_type": "stream",
          "text": [
            "Hello Capstone Project Course!\n"
          ],
          "name": "stdout"
        }
      ]
    },
    {
      "cell_type": "code",
      "metadata": {
        "id": "NZXpekXtXzt6",
        "colab_type": "code",
        "colab": {}
      },
      "source": [
        ""
      ],
      "execution_count": 0,
      "outputs": []
    }
  ]
}