{
  "nbformat": 4,
  "nbformat_minor": 0,
  "metadata": {
    "colab": {
      "name": "capstone.ipynb",
      "provenance": [],
      "collapsed_sections": [],
      "authorship_tag": "ABX9TyMqX64CGO1WV2K8Js/Nuef2"
    },
    "kernelspec": {
      "name": "python3",
      "display_name": "Python 3"
    }
  },
  "cells": [
    {
      "cell_type": "markdown",
      "metadata": {
        "id": "aNdfYs8S_wkW",
        "colab_type": "text"
      },
      "source": [
        "#### Introduction/Business Problem"
      ]
    },
    {
      "cell_type": "markdown",
      "metadata": {
        "id": "3QXmRRg-_9sC",
        "colab_type": "text"
      },
      "source": [
        "In the city of Toronto, if someone is looking to open a coffee shop, where would you recommend that they open it?"
      ]
    },
    {
      "cell_type": "markdown",
      "metadata": {
        "id": "JZLwkuG-A93w",
        "colab_type": "text"
      },
      "source": [
        "#### Data Section"
      ]
    },
    {
      "cell_type": "markdown",
      "metadata": {
        "id": "Bvzjw14yBJOD",
        "colab_type": "text"
      },
      "source": [
        "In order to recommend a good place to open a new coffee shop, I will search all venues related with coffee in all postal codes in Toronto, get recommendation data of them, and retrieve number of users who like them from FourSquare. I will select the place of having many number of recommendation and likes, because it means that lots of people come to the place for a cup of coffee."
      ]
    },
    {
      "cell_type": "markdown",
      "metadata": {
        "id": "pjuEvYiJVAdR",
        "colab_type": "text"
      },
      "source": [
        "#### Methodology"
      ]
    },
    {
      "cell_type": "markdown",
      "metadata": {
        "id": "Mrf-5GJjVqD8",
        "colab_type": "text"
      },
      "source": [
        "First, scraping postal code data in Wiki and getting geolocation in those area"
      ]
    },
    {
      "cell_type": "code",
      "metadata": {
        "id": "WQRJrztTV3lx",
        "colab_type": "code",
        "outputId": "2ace153b-4c27-4a00-e0a6-e415a35a4198",
        "colab": {
          "base_uri": "https://localhost:8080/",
          "height": 595
        }
      },
      "source": [
        "!pip install geocoder\n",
        "!pip install cssselect\n",
        "import pandas as pd\n",
        "import requests\n",
        "import lxml.html as lh\n",
        "\n",
        "url = 'https://en.wikipedia.org/wiki/List_of_postal_codes_of_Canada:_M'\n",
        "page = requests.get(url)\n",
        "\n",
        "#Store the contents of the website under doc\n",
        "doc = lh.fromstring(page.content)\n",
        "#Parse data that are stored between <tr>..</tr> of HTML\n",
        "tr_elements = doc.xpath('//tr')\n",
        "\n",
        "df = pd.DataFrame(columns = ['Postal Code', 'Borough', 'Neighbor'])\n",
        "i=0\n",
        "#For each row, store each first element (header) and an empty list\n",
        "j = 0\n",
        "for a in range(0,20) :\n",
        "  for t in tr_elements[a]:\n",
        "      i+=1\n",
        "      name=t.text_content().replace('\\n','').replace('/',',')      \n",
        "      if 'Not' not in name[3:16] :\n",
        "      \n",
        "        if name.find('(') < 0 :\n",
        "          df.loc[j] = [name[0:3], name[3:], name[3:]]\n",
        "        else:\n",
        "          df.loc[j] = [name[0:3], name[3:name.find('(')], name[name.find('(')+1:name.find(')')]]        \n",
        "        j = j + 1\n",
        "\n",
        "# get geospatial data\n",
        "df2 = pd.read_csv(\"http://cocl.us/Geospatial_data\")\n",
        "\n",
        "# Join two data frame\n",
        "neighborhoods = df.set_index('Postal Code').join(df2.set_index('Postal Code'))\n",
        "\n",
        "\n",
        "neighborhoods.head()\n",
        "\n"
      ],
      "execution_count": 1,
      "outputs": [
        {
          "output_type": "stream",
          "text": [
            "Collecting geocoder\n",
            "\u001b[?25l  Downloading https://files.pythonhosted.org/packages/4f/6b/13166c909ad2f2d76b929a4227c952630ebaf0d729f6317eb09cbceccbab/geocoder-1.38.1-py2.py3-none-any.whl (98kB)\n",
            "\r\u001b[K     |███▎                            | 10kB 19.4MB/s eta 0:00:01\r\u001b[K     |██████▋                         | 20kB 1.7MB/s eta 0:00:01\r\u001b[K     |██████████                      | 30kB 2.5MB/s eta 0:00:01\r\u001b[K     |█████████████▎                  | 40kB 1.7MB/s eta 0:00:01\r\u001b[K     |████████████████▋               | 51kB 2.1MB/s eta 0:00:01\r\u001b[K     |████████████████████            | 61kB 2.4MB/s eta 0:00:01\r\u001b[K     |███████████████████████▎        | 71kB 2.8MB/s eta 0:00:01\r\u001b[K     |██████████████████████████▋     | 81kB 3.2MB/s eta 0:00:01\r\u001b[K     |██████████████████████████████  | 92kB 3.6MB/s eta 0:00:01\r\u001b[K     |████████████████████████████████| 102kB 2.4MB/s \n",
            "\u001b[?25hRequirement already satisfied: click in /usr/local/lib/python3.6/dist-packages (from geocoder) (7.1.1)\n",
            "Requirement already satisfied: future in /usr/local/lib/python3.6/dist-packages (from geocoder) (0.16.0)\n",
            "Requirement already satisfied: six in /usr/local/lib/python3.6/dist-packages (from geocoder) (1.12.0)\n",
            "Requirement already satisfied: requests in /usr/local/lib/python3.6/dist-packages (from geocoder) (2.21.0)\n",
            "Collecting ratelim\n",
            "  Downloading https://files.pythonhosted.org/packages/f2/98/7e6d147fd16a10a5f821db6e25f192265d6ecca3d82957a4fdd592cad49c/ratelim-0.1.6-py2.py3-none-any.whl\n",
            "Requirement already satisfied: certifi>=2017.4.17 in /usr/local/lib/python3.6/dist-packages (from requests->geocoder) (2019.11.28)\n",
            "Requirement already satisfied: idna<2.9,>=2.5 in /usr/local/lib/python3.6/dist-packages (from requests->geocoder) (2.8)\n",
            "Requirement already satisfied: chardet<3.1.0,>=3.0.2 in /usr/local/lib/python3.6/dist-packages (from requests->geocoder) (3.0.4)\n",
            "Requirement already satisfied: urllib3<1.25,>=1.21.1 in /usr/local/lib/python3.6/dist-packages (from requests->geocoder) (1.24.3)\n",
            "Requirement already satisfied: decorator in /usr/local/lib/python3.6/dist-packages (from ratelim->geocoder) (4.4.2)\n",
            "Installing collected packages: ratelim, geocoder\n",
            "Successfully installed geocoder-1.38.1 ratelim-0.1.6\n",
            "Collecting cssselect\n",
            "  Downloading https://files.pythonhosted.org/packages/3b/d4/3b5c17f00cce85b9a1e6f91096e1cc8e8ede2e1be8e96b87ce1ed09e92c5/cssselect-1.1.0-py2.py3-none-any.whl\n",
            "Installing collected packages: cssselect\n",
            "Successfully installed cssselect-1.1.0\n"
          ],
          "name": "stdout"
        },
        {
          "output_type": "execute_result",
          "data": {
            "text/html": [
              "<div>\n",
              "<style scoped>\n",
              "    .dataframe tbody tr th:only-of-type {\n",
              "        vertical-align: middle;\n",
              "    }\n",
              "\n",
              "    .dataframe tbody tr th {\n",
              "        vertical-align: top;\n",
              "    }\n",
              "\n",
              "    .dataframe thead th {\n",
              "        text-align: right;\n",
              "    }\n",
              "</style>\n",
              "<table border=\"1\" class=\"dataframe\">\n",
              "  <thead>\n",
              "    <tr style=\"text-align: right;\">\n",
              "      <th></th>\n",
              "      <th>Borough</th>\n",
              "      <th>Neighbor</th>\n",
              "      <th>Latitude</th>\n",
              "      <th>Longitude</th>\n",
              "    </tr>\n",
              "    <tr>\n",
              "      <th>Postal Code</th>\n",
              "      <th></th>\n",
              "      <th></th>\n",
              "      <th></th>\n",
              "      <th></th>\n",
              "    </tr>\n",
              "  </thead>\n",
              "  <tbody>\n",
              "    <tr>\n",
              "      <th>M3A</th>\n",
              "      <td>North York</td>\n",
              "      <td>Parkwoods</td>\n",
              "      <td>43.753259</td>\n",
              "      <td>-79.329656</td>\n",
              "    </tr>\n",
              "    <tr>\n",
              "      <th>M4A</th>\n",
              "      <td>North York</td>\n",
              "      <td>Victoria Village</td>\n",
              "      <td>43.725882</td>\n",
              "      <td>-79.315572</td>\n",
              "    </tr>\n",
              "    <tr>\n",
              "      <th>M5A</th>\n",
              "      <td>Downtown Toronto</td>\n",
              "      <td>Regent Park , Harbourfront</td>\n",
              "      <td>43.654260</td>\n",
              "      <td>-79.360636</td>\n",
              "    </tr>\n",
              "    <tr>\n",
              "      <th>M6A</th>\n",
              "      <td>North York</td>\n",
              "      <td>Lawrence Manor , Lawrence Heights</td>\n",
              "      <td>43.718518</td>\n",
              "      <td>-79.464763</td>\n",
              "    </tr>\n",
              "    <tr>\n",
              "      <th>M7A</th>\n",
              "      <td>Queen's Park , Ontario Provincial Government</td>\n",
              "      <td>Queen's Park , Ontario Provincial Government</td>\n",
              "      <td>43.662301</td>\n",
              "      <td>-79.389494</td>\n",
              "    </tr>\n",
              "  </tbody>\n",
              "</table>\n",
              "</div>"
            ],
            "text/plain": [
              "                                                  Borough  ...  Longitude\n",
              "Postal Code                                                ...           \n",
              "M3A                                            North York  ... -79.329656\n",
              "M4A                                            North York  ... -79.315572\n",
              "M5A                                      Downtown Toronto  ... -79.360636\n",
              "M6A                                            North York  ... -79.464763\n",
              "M7A          Queen's Park , Ontario Provincial Government  ... -79.389494\n",
              "\n",
              "[5 rows x 4 columns]"
            ]
          },
          "metadata": {
            "tags": []
          },
          "execution_count": 1
        }
      ]
    },
    {
      "cell_type": "markdown",
      "metadata": {
        "id": "mH2RdSuTXilY",
        "colab_type": "text"
      },
      "source": [
        "Second, connecting FourSquare API and retreving all venues related with coffee in the areas of Toronto"
      ]
    },
    {
      "cell_type": "code",
      "metadata": {
        "id": "oNasHmm8X1iX",
        "colab_type": "code",
        "outputId": "a068062b-7e5e-4195-bff5-1008d0e677a5",
        "colab": {
          "base_uri": "https://localhost:8080/",
          "height": 394
        }
      },
      "source": [
        "from pandas.io.json import json_normalize\n",
        "\n",
        "CLIENT_ID = 'U5AHNKUAJT5DJ2WVCNWY4NYILPROVI1F2ABQZ3RYAJI4QOOJ' # your Foursquare ID\n",
        "CLIENT_SECRET = 'FJWPPYYFO2ZMFVNKPA4W4TZOGDSEFWK01ESWPNW3J5ZCHBVB' # your Foursquare Secret\n",
        "VERSION = '20180604'\n",
        "LIMIT = 30\n",
        "\n",
        "search_query = 'coffee'\n",
        "radius = 500\n",
        "\n",
        "i=2\n",
        "latitude = neighborhoods.iloc[i,2]\n",
        "longitude = neighborhoods.iloc[i,3]\n",
        "\n",
        "url = 'https://api.foursquare.com/v2/venues/search?client_id={}&client_secret={}&ll={},{}&v={}&query={}&radius={}&limit={}'.format(CLIENT_ID, CLIENT_SECRET, latitude, longitude, VERSION, search_query, radius, LIMIT)\n",
        "results = requests.get(url).json()\n",
        "\n",
        "# assign relevant part of JSON to venues\n",
        "venues = results['response']['venues']\n",
        "\n",
        "# tranform venues into a dataframe\n",
        "dataframe = json_normalize(venues)\n",
        "dataframe.head()"
      ],
      "execution_count": 2,
      "outputs": [
        {
          "output_type": "execute_result",
          "data": {
            "text/html": [
              "<div>\n",
              "<style scoped>\n",
              "    .dataframe tbody tr th:only-of-type {\n",
              "        vertical-align: middle;\n",
              "    }\n",
              "\n",
              "    .dataframe tbody tr th {\n",
              "        vertical-align: top;\n",
              "    }\n",
              "\n",
              "    .dataframe thead th {\n",
              "        text-align: right;\n",
              "    }\n",
              "</style>\n",
              "<table border=\"1\" class=\"dataframe\">\n",
              "  <thead>\n",
              "    <tr style=\"text-align: right;\">\n",
              "      <th></th>\n",
              "      <th>id</th>\n",
              "      <th>name</th>\n",
              "      <th>categories</th>\n",
              "      <th>referralId</th>\n",
              "      <th>hasPerk</th>\n",
              "      <th>location.address</th>\n",
              "      <th>location.crossStreet</th>\n",
              "      <th>location.lat</th>\n",
              "      <th>location.lng</th>\n",
              "      <th>location.labeledLatLngs</th>\n",
              "      <th>location.distance</th>\n",
              "      <th>location.cc</th>\n",
              "      <th>location.city</th>\n",
              "      <th>location.state</th>\n",
              "      <th>location.country</th>\n",
              "      <th>location.formattedAddress</th>\n",
              "      <th>location.postalCode</th>\n",
              "    </tr>\n",
              "  </thead>\n",
              "  <tbody>\n",
              "    <tr>\n",
              "      <th>0</th>\n",
              "      <td>53b8466a498e83df908c3f21</td>\n",
              "      <td>Tandem Coffee</td>\n",
              "      <td>[{'id': '4bf58dd8d48988d1e0931735', 'name': 'C...</td>\n",
              "      <td>v-1585138751</td>\n",
              "      <td>False</td>\n",
              "      <td>368 King St E</td>\n",
              "      <td>at Trinity St</td>\n",
              "      <td>43.653559</td>\n",
              "      <td>-79.361809</td>\n",
              "      <td>[{'label': 'display', 'lat': 43.65355870959944...</td>\n",
              "      <td>122</td>\n",
              "      <td>CA</td>\n",
              "      <td>Toronto</td>\n",
              "      <td>ON</td>\n",
              "      <td>Canada</td>\n",
              "      <td>[368 King St E (at Trinity St), Toronto ON, Ca...</td>\n",
              "      <td>NaN</td>\n",
              "    </tr>\n",
              "    <tr>\n",
              "      <th>1</th>\n",
              "      <td>58bdc3a23ef0f629212f1f70</td>\n",
              "      <td>Arena Coffee Bar</td>\n",
              "      <td>[{'id': '4bf58dd8d48988d1e0931735', 'name': 'C...</td>\n",
              "      <td>v-1585138751</td>\n",
              "      <td>False</td>\n",
              "      <td>15 Tank House Lane</td>\n",
              "      <td>NaN</td>\n",
              "      <td>43.650280</td>\n",
              "      <td>-79.358860</td>\n",
              "      <td>[{'label': 'display', 'lat': 43.65028, 'lng': ...</td>\n",
              "      <td>465</td>\n",
              "      <td>CA</td>\n",
              "      <td>Toronto</td>\n",
              "      <td>ON</td>\n",
              "      <td>Canada</td>\n",
              "      <td>[15 Tank House Lane, Toronto ON M5A 3C4, Canada]</td>\n",
              "      <td>M5A 3C4</td>\n",
              "    </tr>\n",
              "    <tr>\n",
              "      <th>2</th>\n",
              "      <td>51853a73498e4d97a8b20831</td>\n",
              "      <td>Rooster Coffee</td>\n",
              "      <td>[{'id': '4bf58dd8d48988d1e0931735', 'name': 'C...</td>\n",
              "      <td>v-1585138751</td>\n",
              "      <td>False</td>\n",
              "      <td>343 King St E</td>\n",
              "      <td>btwn Princess &amp; Berkeley St</td>\n",
              "      <td>43.651900</td>\n",
              "      <td>-79.365609</td>\n",
              "      <td>[{'label': 'display', 'lat': 43.65189965670432...</td>\n",
              "      <td>479</td>\n",
              "      <td>CA</td>\n",
              "      <td>Toronto</td>\n",
              "      <td>ON</td>\n",
              "      <td>Canada</td>\n",
              "      <td>[343 King St E (btwn Princess &amp; Berkeley St), ...</td>\n",
              "      <td>M5A 1L1</td>\n",
              "    </tr>\n",
              "    <tr>\n",
              "      <th>3</th>\n",
              "      <td>4adb58f7f964a520412621e3</td>\n",
              "      <td>Balzac's Coffee</td>\n",
              "      <td>[{'id': '4bf58dd8d48988d1e0931735', 'name': 'C...</td>\n",
              "      <td>v-1585138751</td>\n",
              "      <td>False</td>\n",
              "      <td>1 Trinity Street</td>\n",
              "      <td>at Distillery Ln.</td>\n",
              "      <td>43.649797</td>\n",
              "      <td>-79.359142</td>\n",
              "      <td>[{'label': 'display', 'lat': 43.64979714147618...</td>\n",
              "      <td>511</td>\n",
              "      <td>CA</td>\n",
              "      <td>Toronto</td>\n",
              "      <td>ON</td>\n",
              "      <td>Canada</td>\n",
              "      <td>[1 Trinity Street (at Distillery Ln.), Toronto...</td>\n",
              "      <td>M5A 3C4</td>\n",
              "    </tr>\n",
              "    <tr>\n",
              "      <th>4</th>\n",
              "      <td>4d9f1825a77d816e4501fa08</td>\n",
              "      <td>Coffee Time</td>\n",
              "      <td>[{'id': '4bf58dd8d48988d1e0931735', 'name': 'C...</td>\n",
              "      <td>v-1585138751</td>\n",
              "      <td>False</td>\n",
              "      <td>142 Parliament St.</td>\n",
              "      <td>Richmond St.</td>\n",
              "      <td>43.654541</td>\n",
              "      <td>-79.364147</td>\n",
              "      <td>[{'label': 'display', 'lat': 43.65454122520666...</td>\n",
              "      <td>284</td>\n",
              "      <td>CA</td>\n",
              "      <td>Toronto</td>\n",
              "      <td>ON</td>\n",
              "      <td>Canada</td>\n",
              "      <td>[142 Parliament St. (Richmond St.), Toronto ON...</td>\n",
              "      <td>NaN</td>\n",
              "    </tr>\n",
              "  </tbody>\n",
              "</table>\n",
              "</div>"
            ],
            "text/plain": [
              "                         id  ... location.postalCode\n",
              "0  53b8466a498e83df908c3f21  ...                 NaN\n",
              "1  58bdc3a23ef0f629212f1f70  ...             M5A 3C4\n",
              "2  51853a73498e4d97a8b20831  ...             M5A 1L1\n",
              "3  4adb58f7f964a520412621e3  ...             M5A 3C4\n",
              "4  4d9f1825a77d816e4501fa08  ...                 NaN\n",
              "\n",
              "[5 rows x 17 columns]"
            ]
          },
          "metadata": {
            "tags": []
          },
          "execution_count": 2
        }
      ]
    },
    {
      "cell_type": "markdown",
      "metadata": {
        "id": "7djyIjKgqGns",
        "colab_type": "text"
      },
      "source": [
        "Third, getting the number of tips in each coffee shop of this area\n"
      ]
    },
    {
      "cell_type": "code",
      "metadata": {
        "id": "7cjMVpDdqYLE",
        "colab_type": "code",
        "colab": {}
      },
      "source": [
        "dataframe['tip_counts'] = 0\n",
        "\n",
        "for i in range(0, dataframe.shape[0]) :\n",
        "  venue_id = dataframe.iloc[i,0]\n",
        "  url = 'https://api.foursquare.com/v2/venues/{}?client_id={}&client_secret={}&v={}'.format(venue_id, CLIENT_ID, CLIENT_SECRET, VERSION)\n",
        "\n",
        "  result = requests.get(url).json()\n",
        "  try:\n",
        "      dataframe.iloc[i, 17] = result['response']['venue']['tips']['count']\n",
        "  except:\n",
        "      print('This venue has not been rated yet.')\n",
        "\n",
        "\n",
        "\n"
      ],
      "execution_count": 0,
      "outputs": []
    },
    {
      "cell_type": "code",
      "metadata": {
        "id": "v6RHVVyZrOLA",
        "colab_type": "code",
        "outputId": "12c1d131-5856-449c-8ed4-ff8dddfeb9f7",
        "colab": {
          "base_uri": "https://localhost:8080/",
          "height": 866
        }
      },
      "source": [
        "dataframe"
      ],
      "execution_count": 4,
      "outputs": [
        {
          "output_type": "execute_result",
          "data": {
            "text/html": [
              "<div>\n",
              "<style scoped>\n",
              "    .dataframe tbody tr th:only-of-type {\n",
              "        vertical-align: middle;\n",
              "    }\n",
              "\n",
              "    .dataframe tbody tr th {\n",
              "        vertical-align: top;\n",
              "    }\n",
              "\n",
              "    .dataframe thead th {\n",
              "        text-align: right;\n",
              "    }\n",
              "</style>\n",
              "<table border=\"1\" class=\"dataframe\">\n",
              "  <thead>\n",
              "    <tr style=\"text-align: right;\">\n",
              "      <th></th>\n",
              "      <th>id</th>\n",
              "      <th>name</th>\n",
              "      <th>categories</th>\n",
              "      <th>referralId</th>\n",
              "      <th>hasPerk</th>\n",
              "      <th>location.address</th>\n",
              "      <th>location.crossStreet</th>\n",
              "      <th>location.lat</th>\n",
              "      <th>location.lng</th>\n",
              "      <th>location.labeledLatLngs</th>\n",
              "      <th>location.distance</th>\n",
              "      <th>location.cc</th>\n",
              "      <th>location.city</th>\n",
              "      <th>location.state</th>\n",
              "      <th>location.country</th>\n",
              "      <th>location.formattedAddress</th>\n",
              "      <th>location.postalCode</th>\n",
              "      <th>tip_counts</th>\n",
              "    </tr>\n",
              "  </thead>\n",
              "  <tbody>\n",
              "    <tr>\n",
              "      <th>0</th>\n",
              "      <td>53b8466a498e83df908c3f21</td>\n",
              "      <td>Tandem Coffee</td>\n",
              "      <td>[{'id': '4bf58dd8d48988d1e0931735', 'name': 'C...</td>\n",
              "      <td>v-1585138751</td>\n",
              "      <td>False</td>\n",
              "      <td>368 King St E</td>\n",
              "      <td>at Trinity St</td>\n",
              "      <td>43.653559</td>\n",
              "      <td>-79.361809</td>\n",
              "      <td>[{'label': 'display', 'lat': 43.65355870959944...</td>\n",
              "      <td>122</td>\n",
              "      <td>CA</td>\n",
              "      <td>Toronto</td>\n",
              "      <td>ON</td>\n",
              "      <td>Canada</td>\n",
              "      <td>[368 King St E (at Trinity St), Toronto ON, Ca...</td>\n",
              "      <td>NaN</td>\n",
              "      <td>22</td>\n",
              "    </tr>\n",
              "    <tr>\n",
              "      <th>1</th>\n",
              "      <td>58bdc3a23ef0f629212f1f70</td>\n",
              "      <td>Arena Coffee Bar</td>\n",
              "      <td>[{'id': '4bf58dd8d48988d1e0931735', 'name': 'C...</td>\n",
              "      <td>v-1585138751</td>\n",
              "      <td>False</td>\n",
              "      <td>15 Tank House Lane</td>\n",
              "      <td>NaN</td>\n",
              "      <td>43.650280</td>\n",
              "      <td>-79.358860</td>\n",
              "      <td>[{'label': 'display', 'lat': 43.65028, 'lng': ...</td>\n",
              "      <td>465</td>\n",
              "      <td>CA</td>\n",
              "      <td>Toronto</td>\n",
              "      <td>ON</td>\n",
              "      <td>Canada</td>\n",
              "      <td>[15 Tank House Lane, Toronto ON M5A 3C4, Canada]</td>\n",
              "      <td>M5A 3C4</td>\n",
              "      <td>1</td>\n",
              "    </tr>\n",
              "    <tr>\n",
              "      <th>2</th>\n",
              "      <td>51853a73498e4d97a8b20831</td>\n",
              "      <td>Rooster Coffee</td>\n",
              "      <td>[{'id': '4bf58dd8d48988d1e0931735', 'name': 'C...</td>\n",
              "      <td>v-1585138751</td>\n",
              "      <td>False</td>\n",
              "      <td>343 King St E</td>\n",
              "      <td>btwn Princess &amp; Berkeley St</td>\n",
              "      <td>43.651900</td>\n",
              "      <td>-79.365609</td>\n",
              "      <td>[{'label': 'display', 'lat': 43.65189965670432...</td>\n",
              "      <td>479</td>\n",
              "      <td>CA</td>\n",
              "      <td>Toronto</td>\n",
              "      <td>ON</td>\n",
              "      <td>Canada</td>\n",
              "      <td>[343 King St E (btwn Princess &amp; Berkeley St), ...</td>\n",
              "      <td>M5A 1L1</td>\n",
              "      <td>71</td>\n",
              "    </tr>\n",
              "    <tr>\n",
              "      <th>3</th>\n",
              "      <td>4adb58f7f964a520412621e3</td>\n",
              "      <td>Balzac's Coffee</td>\n",
              "      <td>[{'id': '4bf58dd8d48988d1e0931735', 'name': 'C...</td>\n",
              "      <td>v-1585138751</td>\n",
              "      <td>False</td>\n",
              "      <td>1 Trinity Street</td>\n",
              "      <td>at Distillery Ln.</td>\n",
              "      <td>43.649797</td>\n",
              "      <td>-79.359142</td>\n",
              "      <td>[{'label': 'display', 'lat': 43.64979714147618...</td>\n",
              "      <td>511</td>\n",
              "      <td>CA</td>\n",
              "      <td>Toronto</td>\n",
              "      <td>ON</td>\n",
              "      <td>Canada</td>\n",
              "      <td>[1 Trinity Street (at Distillery Ln.), Toronto...</td>\n",
              "      <td>M5A 3C4</td>\n",
              "      <td>97</td>\n",
              "    </tr>\n",
              "    <tr>\n",
              "      <th>4</th>\n",
              "      <td>4d9f1825a77d816e4501fa08</td>\n",
              "      <td>Coffee Time</td>\n",
              "      <td>[{'id': '4bf58dd8d48988d1e0931735', 'name': 'C...</td>\n",
              "      <td>v-1585138751</td>\n",
              "      <td>False</td>\n",
              "      <td>142 Parliament St.</td>\n",
              "      <td>Richmond St.</td>\n",
              "      <td>43.654541</td>\n",
              "      <td>-79.364147</td>\n",
              "      <td>[{'label': 'display', 'lat': 43.65454122520666...</td>\n",
              "      <td>284</td>\n",
              "      <td>CA</td>\n",
              "      <td>Toronto</td>\n",
              "      <td>ON</td>\n",
              "      <td>Canada</td>\n",
              "      <td>[142 Parliament St. (Richmond St.), Toronto ON...</td>\n",
              "      <td>NaN</td>\n",
              "      <td>0</td>\n",
              "    </tr>\n",
              "    <tr>\n",
              "      <th>5</th>\n",
              "      <td>54cb8e59498e14b4a8ab2aba</td>\n",
              "      <td>Coffee Enterprise</td>\n",
              "      <td>[{'id': '4bf58dd8d48988d125941735', 'name': 'T...</td>\n",
              "      <td>v-1585138751</td>\n",
              "      <td>False</td>\n",
              "      <td>550 Queen Street East</td>\n",
              "      <td>NaN</td>\n",
              "      <td>43.657290</td>\n",
              "      <td>-79.357592</td>\n",
              "      <td>[{'label': 'display', 'lat': 43.65729010071037...</td>\n",
              "      <td>417</td>\n",
              "      <td>CA</td>\n",
              "      <td>Toronto</td>\n",
              "      <td>ON</td>\n",
              "      <td>Canada</td>\n",
              "      <td>[550 Queen Street East, Toronto ON, Canada]</td>\n",
              "      <td>NaN</td>\n",
              "      <td>0</td>\n",
              "    </tr>\n",
              "    <tr>\n",
              "      <th>6</th>\n",
              "      <td>55fc340d498e3e59b6211dc0</td>\n",
              "      <td>Coffee Mobile - Brand Partners</td>\n",
              "      <td>[{'id': '4bf58dd8d48988d125941735', 'name': 'T...</td>\n",
              "      <td>v-1585138751</td>\n",
              "      <td>False</td>\n",
              "      <td>550 Queen Street East</td>\n",
              "      <td>River</td>\n",
              "      <td>43.657487</td>\n",
              "      <td>-79.356930</td>\n",
              "      <td>[{'label': 'display', 'lat': 43.6574868268064,...</td>\n",
              "      <td>467</td>\n",
              "      <td>CA</td>\n",
              "      <td>Toronto</td>\n",
              "      <td>ON</td>\n",
              "      <td>Canada</td>\n",
              "      <td>[550 Queen Street East (River), Toronto ON, Ca...</td>\n",
              "      <td>NaN</td>\n",
              "      <td>0</td>\n",
              "    </tr>\n",
              "    <tr>\n",
              "      <th>7</th>\n",
              "      <td>5047a0b4e4b046ea951ae2bf</td>\n",
              "      <td>Keefaa Coffee</td>\n",
              "      <td>[{'id': '4bf58dd8d48988d10a941735', 'name': 'E...</td>\n",
              "      <td>v-1585138751</td>\n",
              "      <td>False</td>\n",
              "      <td>NaN</td>\n",
              "      <td>NaN</td>\n",
              "      <td>43.655896</td>\n",
              "      <td>-79.363509</td>\n",
              "      <td>[{'label': 'display', 'lat': 43.65589621753793...</td>\n",
              "      <td>294</td>\n",
              "      <td>CA</td>\n",
              "      <td>Toronto</td>\n",
              "      <td>ON</td>\n",
              "      <td>Canada</td>\n",
              "      <td>[Toronto ON, Canada]</td>\n",
              "      <td>NaN</td>\n",
              "      <td>1</td>\n",
              "    </tr>\n",
              "    <tr>\n",
              "      <th>8</th>\n",
              "      <td>4f96be7ae4b01de5727ebcff</td>\n",
              "      <td>Ethiopian Keeffaa Forest Coffee</td>\n",
              "      <td>[{'id': '4bf58dd8d48988d10a941735', 'name': 'E...</td>\n",
              "      <td>v-1585138751</td>\n",
              "      <td>False</td>\n",
              "      <td>368 Queen Street East</td>\n",
              "      <td>NaN</td>\n",
              "      <td>43.655958</td>\n",
              "      <td>-79.363977</td>\n",
              "      <td>[{'label': 'display', 'lat': 43.65595786436085...</td>\n",
              "      <td>328</td>\n",
              "      <td>CA</td>\n",
              "      <td>Toronto</td>\n",
              "      <td>ON</td>\n",
              "      <td>Canada</td>\n",
              "      <td>[368 Queen Street East, Toronto ON, Canada]</td>\n",
              "      <td>NaN</td>\n",
              "      <td>3</td>\n",
              "    </tr>\n",
              "    <tr>\n",
              "      <th>9</th>\n",
              "      <td>514c9b65e4b08b26d3c8d8c0</td>\n",
              "      <td>Cuppa Coffee Studios</td>\n",
              "      <td>[{'id': '4bf58dd8d48988d124941735', 'name': 'O...</td>\n",
              "      <td>v-1585138751</td>\n",
              "      <td>False</td>\n",
              "      <td>53 Ontario Street</td>\n",
              "      <td>NaN</td>\n",
              "      <td>43.653544</td>\n",
              "      <td>-79.366518</td>\n",
              "      <td>[{'label': 'display', 'lat': 43.6535443049727,...</td>\n",
              "      <td>480</td>\n",
              "      <td>CA</td>\n",
              "      <td>Toronto</td>\n",
              "      <td>ON</td>\n",
              "      <td>Canada</td>\n",
              "      <td>[53 Ontario Street, Toronto ON, Canada]</td>\n",
              "      <td>NaN</td>\n",
              "      <td>0</td>\n",
              "    </tr>\n",
              "    <tr>\n",
              "      <th>10</th>\n",
              "      <td>4c3f26851ef0d13a28409380</td>\n",
              "      <td>Cup of coffee</td>\n",
              "      <td>[]</td>\n",
              "      <td>v-1585138751</td>\n",
              "      <td>False</td>\n",
              "      <td>53 Ontario Street</td>\n",
              "      <td>NaN</td>\n",
              "      <td>43.652870</td>\n",
              "      <td>-79.367554</td>\n",
              "      <td>[{'label': 'display', 'lat': 43.65287, 'lng': ...</td>\n",
              "      <td>578</td>\n",
              "      <td>CA</td>\n",
              "      <td>Toronto</td>\n",
              "      <td>ON</td>\n",
              "      <td>Canada</td>\n",
              "      <td>[53 Ontario Street, Toronto ON, Canada]</td>\n",
              "      <td>NaN</td>\n",
              "      <td>0</td>\n",
              "    </tr>\n",
              "    <tr>\n",
              "      <th>11</th>\n",
              "      <td>544ad85d498ebace721e3660</td>\n",
              "      <td>Tim Hortons</td>\n",
              "      <td>[{'id': '4bf58dd8d48988d1e0931735', 'name': 'C...</td>\n",
              "      <td>v-1585138751</td>\n",
              "      <td>False</td>\n",
              "      <td>589 King St East</td>\n",
              "      <td>River</td>\n",
              "      <td>43.656631</td>\n",
              "      <td>-79.356240</td>\n",
              "      <td>[{'label': 'display', 'lat': 43.6566309, 'lng'...</td>\n",
              "      <td>441</td>\n",
              "      <td>CA</td>\n",
              "      <td>Toronto</td>\n",
              "      <td>ON</td>\n",
              "      <td>Canada</td>\n",
              "      <td>[589 King St East (River), Toronto ON M5V 1M1,...</td>\n",
              "      <td>M5V 1M1</td>\n",
              "      <td>7</td>\n",
              "    </tr>\n",
              "  </tbody>\n",
              "</table>\n",
              "</div>"
            ],
            "text/plain": [
              "                          id  ... tip_counts\n",
              "0   53b8466a498e83df908c3f21  ...         22\n",
              "1   58bdc3a23ef0f629212f1f70  ...          1\n",
              "2   51853a73498e4d97a8b20831  ...         71\n",
              "3   4adb58f7f964a520412621e3  ...         97\n",
              "4   4d9f1825a77d816e4501fa08  ...          0\n",
              "5   54cb8e59498e14b4a8ab2aba  ...          0\n",
              "6   55fc340d498e3e59b6211dc0  ...          0\n",
              "7   5047a0b4e4b046ea951ae2bf  ...          1\n",
              "8   4f96be7ae4b01de5727ebcff  ...          3\n",
              "9   514c9b65e4b08b26d3c8d8c0  ...          0\n",
              "10  4c3f26851ef0d13a28409380  ...          0\n",
              "11  544ad85d498ebace721e3660  ...          7\n",
              "\n",
              "[12 rows x 18 columns]"
            ]
          },
          "metadata": {
            "tags": []
          },
          "execution_count": 4
        }
      ]
    },
    {
      "cell_type": "markdown",
      "metadata": {
        "id": "1JrnpfEcxLx6",
        "colab_type": "text"
      },
      "source": [
        "Then, for each area of all postal codes in Torontn, getting the number of coffee shop and the total number of likes in the area."
      ]
    },
    {
      "cell_type": "code",
      "metadata": {
        "id": "cIqanmm2rW9Z",
        "colab_type": "code",
        "colab": {}
      },
      "source": [
        "coffee_shops_in_all_areas = neighborhoods"
      ],
      "execution_count": 0,
      "outputs": []
    },
    {
      "cell_type": "code",
      "metadata": {
        "id": "jbBWJSV9yEqe",
        "colab_type": "code",
        "outputId": "f09376b1-677d-4520-e387-a27ebe9495e4",
        "colab": {
          "base_uri": "https://localhost:8080/",
          "height": 450
        }
      },
      "source": [
        "coffee_shops_in_all_areas"
      ],
      "execution_count": 6,
      "outputs": [
        {
          "output_type": "execute_result",
          "data": {
            "text/html": [
              "<div>\n",
              "<style scoped>\n",
              "    .dataframe tbody tr th:only-of-type {\n",
              "        vertical-align: middle;\n",
              "    }\n",
              "\n",
              "    .dataframe tbody tr th {\n",
              "        vertical-align: top;\n",
              "    }\n",
              "\n",
              "    .dataframe thead th {\n",
              "        text-align: right;\n",
              "    }\n",
              "</style>\n",
              "<table border=\"1\" class=\"dataframe\">\n",
              "  <thead>\n",
              "    <tr style=\"text-align: right;\">\n",
              "      <th></th>\n",
              "      <th>Borough</th>\n",
              "      <th>Neighbor</th>\n",
              "      <th>Latitude</th>\n",
              "      <th>Longitude</th>\n",
              "    </tr>\n",
              "    <tr>\n",
              "      <th>Postal Code</th>\n",
              "      <th></th>\n",
              "      <th></th>\n",
              "      <th></th>\n",
              "      <th></th>\n",
              "    </tr>\n",
              "  </thead>\n",
              "  <tbody>\n",
              "    <tr>\n",
              "      <th>M3A</th>\n",
              "      <td>North York</td>\n",
              "      <td>Parkwoods</td>\n",
              "      <td>43.753259</td>\n",
              "      <td>-79.329656</td>\n",
              "    </tr>\n",
              "    <tr>\n",
              "      <th>M4A</th>\n",
              "      <td>North York</td>\n",
              "      <td>Victoria Village</td>\n",
              "      <td>43.725882</td>\n",
              "      <td>-79.315572</td>\n",
              "    </tr>\n",
              "    <tr>\n",
              "      <th>M5A</th>\n",
              "      <td>Downtown Toronto</td>\n",
              "      <td>Regent Park , Harbourfront</td>\n",
              "      <td>43.654260</td>\n",
              "      <td>-79.360636</td>\n",
              "    </tr>\n",
              "    <tr>\n",
              "      <th>M6A</th>\n",
              "      <td>North York</td>\n",
              "      <td>Lawrence Manor , Lawrence Heights</td>\n",
              "      <td>43.718518</td>\n",
              "      <td>-79.464763</td>\n",
              "    </tr>\n",
              "    <tr>\n",
              "      <th>M7A</th>\n",
              "      <td>Queen's Park , Ontario Provincial Government</td>\n",
              "      <td>Queen's Park , Ontario Provincial Government</td>\n",
              "      <td>43.662301</td>\n",
              "      <td>-79.389494</td>\n",
              "    </tr>\n",
              "    <tr>\n",
              "      <th>...</th>\n",
              "      <td>...</td>\n",
              "      <td>...</td>\n",
              "      <td>...</td>\n",
              "      <td>...</td>\n",
              "    </tr>\n",
              "    <tr>\n",
              "      <th>M8X</th>\n",
              "      <td>Etobicoke</td>\n",
              "      <td>The Kingsway , Montgomery Road , Old Mill North</td>\n",
              "      <td>43.653654</td>\n",
              "      <td>-79.506944</td>\n",
              "    </tr>\n",
              "    <tr>\n",
              "      <th>M4Y</th>\n",
              "      <td>Downtown Toronto</td>\n",
              "      <td>Church and Wellesley</td>\n",
              "      <td>43.665860</td>\n",
              "      <td>-79.383160</td>\n",
              "    </tr>\n",
              "    <tr>\n",
              "      <th>M7Y</th>\n",
              "      <td>East TorontoBusiness reply mail Processing Cen...</td>\n",
              "      <td>Enclave of M4L</td>\n",
              "      <td>43.662744</td>\n",
              "      <td>-79.321558</td>\n",
              "    </tr>\n",
              "    <tr>\n",
              "      <th>M8Y</th>\n",
              "      <td>Etobicoke</td>\n",
              "      <td>Old Mill South , King's Mill Park , Sunnylea ,...</td>\n",
              "      <td>43.636258</td>\n",
              "      <td>-79.498509</td>\n",
              "    </tr>\n",
              "    <tr>\n",
              "      <th>M8Z</th>\n",
              "      <td>Etobicoke</td>\n",
              "      <td>Mimico NW , The Queensway West , South of Bloo...</td>\n",
              "      <td>43.628841</td>\n",
              "      <td>-79.520999</td>\n",
              "    </tr>\n",
              "  </tbody>\n",
              "</table>\n",
              "<p>103 rows × 4 columns</p>\n",
              "</div>"
            ],
            "text/plain": [
              "                                                       Borough  ...  Longitude\n",
              "Postal Code                                                     ...           \n",
              "M3A                                                 North York  ... -79.329656\n",
              "M4A                                                 North York  ... -79.315572\n",
              "M5A                                           Downtown Toronto  ... -79.360636\n",
              "M6A                                                 North York  ... -79.464763\n",
              "M7A               Queen's Park , Ontario Provincial Government  ... -79.389494\n",
              "...                                                        ...  ...        ...\n",
              "M8X                                                  Etobicoke  ... -79.506944\n",
              "M4Y                                           Downtown Toronto  ... -79.383160\n",
              "M7Y          East TorontoBusiness reply mail Processing Cen...  ... -79.321558\n",
              "M8Y                                                  Etobicoke  ... -79.498509\n",
              "M8Z                                                  Etobicoke  ... -79.520999\n",
              "\n",
              "[103 rows x 4 columns]"
            ]
          },
          "metadata": {
            "tags": []
          },
          "execution_count": 6
        }
      ]
    },
    {
      "cell_type": "code",
      "metadata": {
        "id": "JZuC8yz4yGTa",
        "colab_type": "code",
        "colab": {}
      },
      "source": [
        "coffee_shops_in_all_areas['number_of_coffeeshop'] = 0\n",
        "coffee_shops_in_all_areas['total_number_of_tips'] = 0\n",
        "coffee_shops_in_all_areas['total_likes'] = 0\n",
        "\n",
        "for i in range(0, coffee_shops_in_all_areas.shape[0]) :\n",
        "  latitude = neighborhoods.iloc[i,2]\n",
        "  longitude = neighborhoods.iloc[i,3]\n",
        "  \n",
        "  # getting the number of coffeeshop\n",
        "  url = 'https://api.foursquare.com/v2/venues/search?client_id={}&client_secret={}&ll={},{}&v={}&query={}&radius={}&limit={}'.format(CLIENT_ID, CLIENT_SECRET, latitude, longitude, VERSION, search_query, radius, LIMIT)\n",
        "  results = requests.get(url).json()\n",
        "  venues = results['response']['venues']\n",
        "  dataframe = json_normalize(venues)\n",
        "  coffee_shops_in_all_areas.iloc[i,4] = dataframe.shape[0]  \n",
        "\n",
        "  # getting tip counts and likes for each coffee shop\n",
        "  #dataframe['tip_counts'] = 0\n",
        "  #dataframe['likes'] = 0\n",
        "  total_tip_count = 0\n",
        "  total_likes = 0\n",
        "\n",
        "  for j in range(0, dataframe.shape[0]) :\n",
        "    venue_id = dataframe.iloc[j,0]\n",
        "    url = 'https://api.foursquare.com/v2/venues/{}?client_id={}&client_secret={}&v={}'.format(venue_id, CLIENT_ID, CLIENT_SECRET, VERSION)\n",
        "    result = requests.get(url).json()\n",
        "    try:\n",
        "        total_tip_count = total_tip_count + result['response']['venue']['tips']['count']\n",
        "    except:\n",
        "        print('This venue has not been rated yet.')\n",
        "    \n",
        "    url = 'https://api.foursquare.com/v2/venues/{}/likes?client_id={}&client_secret={}&v={}'.format(venue_id, CLIENT_ID, CLIENT_SECRET, VERSION)\n",
        "    likes_number = requests.get(url).json()\n",
        "    total_likes = total_likes + likes_number['response']['likes']['count']\n",
        "  \n",
        "  coffee_shops_in_all_areas.iloc[i,5] = total_tip_count\n",
        "  coffee_shops_in_all_areas.iloc[i,6] = total_likes\n"
      ],
      "execution_count": 0,
      "outputs": []
    },
    {
      "cell_type": "code",
      "metadata": {
        "id": "4wyzgZGBG0hA",
        "colab_type": "code",
        "outputId": "5e5d7b21-ced1-41be-dfc6-e6cd2a70304c",
        "colab": {
          "base_uri": "https://localhost:8080/",
          "height": 450
        }
      },
      "source": [
        "coffee_shops_in_all_areas"
      ],
      "execution_count": 24,
      "outputs": [
        {
          "output_type": "execute_result",
          "data": {
            "text/html": [
              "<div>\n",
              "<style scoped>\n",
              "    .dataframe tbody tr th:only-of-type {\n",
              "        vertical-align: middle;\n",
              "    }\n",
              "\n",
              "    .dataframe tbody tr th {\n",
              "        vertical-align: top;\n",
              "    }\n",
              "\n",
              "    .dataframe thead th {\n",
              "        text-align: right;\n",
              "    }\n",
              "</style>\n",
              "<table border=\"1\" class=\"dataframe\">\n",
              "  <thead>\n",
              "    <tr style=\"text-align: right;\">\n",
              "      <th></th>\n",
              "      <th>Borough</th>\n",
              "      <th>Neighbor</th>\n",
              "      <th>Latitude</th>\n",
              "      <th>Longitude</th>\n",
              "      <th>number_of_coffeeshop</th>\n",
              "      <th>total_number_of_tips</th>\n",
              "      <th>total_likes</th>\n",
              "    </tr>\n",
              "    <tr>\n",
              "      <th>Postal Code</th>\n",
              "      <th></th>\n",
              "      <th></th>\n",
              "      <th></th>\n",
              "      <th></th>\n",
              "      <th></th>\n",
              "      <th></th>\n",
              "      <th></th>\n",
              "    </tr>\n",
              "  </thead>\n",
              "  <tbody>\n",
              "    <tr>\n",
              "      <th>M3A</th>\n",
              "      <td>North York</td>\n",
              "      <td>Parkwoods</td>\n",
              "      <td>43.753259</td>\n",
              "      <td>-79.329656</td>\n",
              "      <td>0</td>\n",
              "      <td>0</td>\n",
              "      <td>0</td>\n",
              "    </tr>\n",
              "    <tr>\n",
              "      <th>M4A</th>\n",
              "      <td>North York</td>\n",
              "      <td>Victoria Village</td>\n",
              "      <td>43.725882</td>\n",
              "      <td>-79.315572</td>\n",
              "      <td>0</td>\n",
              "      <td>0</td>\n",
              "      <td>0</td>\n",
              "    </tr>\n",
              "    <tr>\n",
              "      <th>M5A</th>\n",
              "      <td>Downtown Toronto</td>\n",
              "      <td>Regent Park , Harbourfront</td>\n",
              "      <td>43.654260</td>\n",
              "      <td>-79.360636</td>\n",
              "      <td>12</td>\n",
              "      <td>0</td>\n",
              "      <td>557</td>\n",
              "    </tr>\n",
              "    <tr>\n",
              "      <th>M6A</th>\n",
              "      <td>North York</td>\n",
              "      <td>Lawrence Manor , Lawrence Heights</td>\n",
              "      <td>43.718518</td>\n",
              "      <td>-79.464763</td>\n",
              "      <td>0</td>\n",
              "      <td>0</td>\n",
              "      <td>0</td>\n",
              "    </tr>\n",
              "    <tr>\n",
              "      <th>M7A</th>\n",
              "      <td>Queen's Park , Ontario Provincial Government</td>\n",
              "      <td>Queen's Park , Ontario Provincial Government</td>\n",
              "      <td>43.662301</td>\n",
              "      <td>-79.389494</td>\n",
              "      <td>14</td>\n",
              "      <td>0</td>\n",
              "      <td>268</td>\n",
              "    </tr>\n",
              "    <tr>\n",
              "      <th>...</th>\n",
              "      <td>...</td>\n",
              "      <td>...</td>\n",
              "      <td>...</td>\n",
              "      <td>...</td>\n",
              "      <td>...</td>\n",
              "      <td>...</td>\n",
              "      <td>...</td>\n",
              "    </tr>\n",
              "    <tr>\n",
              "      <th>M8X</th>\n",
              "      <td>Etobicoke</td>\n",
              "      <td>The Kingsway , Montgomery Road , Old Mill North</td>\n",
              "      <td>43.653654</td>\n",
              "      <td>-79.506944</td>\n",
              "      <td>0</td>\n",
              "      <td>0</td>\n",
              "      <td>0</td>\n",
              "    </tr>\n",
              "    <tr>\n",
              "      <th>M4Y</th>\n",
              "      <td>Downtown Toronto</td>\n",
              "      <td>Church and Wellesley</td>\n",
              "      <td>43.665860</td>\n",
              "      <td>-79.383160</td>\n",
              "      <td>10</td>\n",
              "      <td>0</td>\n",
              "      <td>142</td>\n",
              "    </tr>\n",
              "    <tr>\n",
              "      <th>M7Y</th>\n",
              "      <td>East TorontoBusiness reply mail Processing Cen...</td>\n",
              "      <td>Enclave of M4L</td>\n",
              "      <td>43.662744</td>\n",
              "      <td>-79.321558</td>\n",
              "      <td>0</td>\n",
              "      <td>0</td>\n",
              "      <td>0</td>\n",
              "    </tr>\n",
              "    <tr>\n",
              "      <th>M8Y</th>\n",
              "      <td>Etobicoke</td>\n",
              "      <td>Old Mill South , King's Mill Park , Sunnylea ,...</td>\n",
              "      <td>43.636258</td>\n",
              "      <td>-79.498509</td>\n",
              "      <td>0</td>\n",
              "      <td>0</td>\n",
              "      <td>0</td>\n",
              "    </tr>\n",
              "    <tr>\n",
              "      <th>M8Z</th>\n",
              "      <td>Etobicoke</td>\n",
              "      <td>Mimico NW , The Queensway West , South of Bloo...</td>\n",
              "      <td>43.628841</td>\n",
              "      <td>-79.520999</td>\n",
              "      <td>1</td>\n",
              "      <td>0</td>\n",
              "      <td>0</td>\n",
              "    </tr>\n",
              "  </tbody>\n",
              "</table>\n",
              "<p>103 rows × 7 columns</p>\n",
              "</div>"
            ],
            "text/plain": [
              "                                                       Borough  ... total_likes\n",
              "Postal Code                                                     ...            \n",
              "M3A                                                 North York  ...           0\n",
              "M4A                                                 North York  ...           0\n",
              "M5A                                           Downtown Toronto  ...         557\n",
              "M6A                                                 North York  ...           0\n",
              "M7A               Queen's Park , Ontario Provincial Government  ...         268\n",
              "...                                                        ...  ...         ...\n",
              "M8X                                                  Etobicoke  ...           0\n",
              "M4Y                                           Downtown Toronto  ...         142\n",
              "M7Y          East TorontoBusiness reply mail Processing Cen...  ...           0\n",
              "M8Y                                                  Etobicoke  ...           0\n",
              "M8Z                                                  Etobicoke  ...           0\n",
              "\n",
              "[103 rows x 7 columns]"
            ]
          },
          "metadata": {
            "tags": []
          },
          "execution_count": 24
        }
      ]
    },
    {
      "cell_type": "code",
      "metadata": {
        "id": "pyOjQWRxIS9U",
        "colab_type": "code",
        "outputId": "78ffc01e-0a14-44d2-bcc8-65c931488a91",
        "colab": {
          "base_uri": "https://localhost:8080/",
          "height": 298
        }
      },
      "source": [
        "import seaborn as sns\n",
        "sns.barplot(x='number_of_coffeeshop', y='Borough', data=coffee_shops_in_all_areas)"
      ],
      "execution_count": 9,
      "outputs": [
        {
          "output_type": "execute_result",
          "data": {
            "text/plain": [
              "<matplotlib.axes._subplots.AxesSubplot at 0x7ff978338f28>"
            ]
          },
          "metadata": {
            "tags": []
          },
          "execution_count": 9
        },
        {
          "output_type": "display_data",
          "data": {
            "image/png": "[encoded data removed]",
            "text/plain": [
              "<Figure size 432x288 with 1 Axes>"
            ]
          },
          "metadata": {
            "tags": []
          }
        }
      ]
    },
    {
      "cell_type": "code",
      "metadata": {
        "id": "u-HZYWZfKq_2",
        "colab_type": "code",
        "outputId": "630b87f2-53ac-480e-fac4-e291861ee7b9",
        "colab": {
          "base_uri": "https://localhost:8080/",
          "height": 298
        }
      },
      "source": [
        "sns.barplot(x='total_number_of_tips', y='Borough', data=coffee_shops_in_all_areas)"
      ],
      "execution_count": 10,
      "outputs": [
        {
          "output_type": "execute_result",
          "data": {
            "text/plain": [
              "<matplotlib.axes._subplots.AxesSubplot at 0x7ff977d9da58>"
            ]
          },
          "metadata": {
            "tags": []
          },
          "execution_count": 10
        },
        {
          "output_type": "display_data",
          "data": {
            "image/png": "[encoded data removed]",
            "text/plain": [
              "<Figure size 432x288 with 1 Axes>"
            ]
          },
          "metadata": {
            "tags": []
          }
        }
      ]
    },
    {
      "cell_type": "code",
      "metadata": {
        "id": "2FwPDK9UQ8ju",
        "colab_type": "code",
        "colab": {
          "base_uri": "https://localhost:8080/",
          "height": 298
        },
        "outputId": "61986eb5-688a-4e42-afdb-efa4c283cf14"
      },
      "source": [
        "sns.barplot(x='total_likes', y='Borough', data=coffee_shops_in_all_areas)"
      ],
      "execution_count": 25,
      "outputs": [
        {
          "output_type": "execute_result",
          "data": {
            "text/plain": [
              "<matplotlib.axes._subplots.AxesSubplot at 0x7ff977b90748>"
            ]
          },
          "metadata": {
            "tags": []
          },
          "execution_count": 25
        },
        {
          "output_type": "display_data",
          "data": {
            "image/png": "[encoded data removed]",
            "text/plain": [
              "<Figure size 432x288 with 1 Axes>"
            ]
          },
          "metadata": {
            "tags": []
          }
        }
      ]
    },
    {
      "cell_type": "markdown",
      "metadata": {
        "id": "T9UMjnsKz6y4",
        "colab_type": "text"
      },
      "source": [
        "#### Result"
      ]
    },
    {
      "cell_type": "markdown",
      "metadata": {
        "id": "AFsG6c8h0C6Y",
        "colab_type": "text"
      },
      "source": [
        "I found that the area that has the highest number of coffeeshop is Downtown Toronto Station The Elplanade, which has also the highest number of likes. Downton Toronto has the second highest number of coffeeshops and likes, and Queen's Park the third. Interesting point is, however, that Queen's park has the highest number of tips in spite that it has smaller number of coffeeshops and likes comparing with Downtown Toronto and Downtown Toronto Station.\n",
        "\n",
        "```\n",
        "# 코드로 형식 지정됨\n",
        "```\n",
        "\n"
      ]
    },
    {
      "cell_type": "markdown",
      "metadata": {
        "id": "L4nNuIFS17tb",
        "colab_type": "text"
      },
      "source": [
        "#### Discussion"
      ]
    },
    {
      "cell_type": "markdown",
      "metadata": {
        "id": "csKxB4RJ2dCN",
        "colab_type": "text"
      },
      "source": [
        "The fact that Queen's park has the highest number of tips in spite that of  smaller number of coffeeshops and likes comparing with Downtown Toronto and Downtown Toronto Station means that many people who are interested in coffee come to Queen's Park, and there would be less competition due to less coffeeshops in same area."
      ]
    },
    {
      "cell_type": "markdown",
      "metadata": {
        "id": "kR_XcQAY3DBB",
        "colab_type": "text"
      },
      "source": [
        "#### Conclusion"
      ]
    },
    {
      "cell_type": "markdown",
      "metadata": {
        "id": "8RGAkCSQ3POS",
        "colab_type": "text"
      },
      "source": [
        "Thus I pick up the area of Queen's park, Ontario Provincial Goverment as the recommendation for launching a new coffeeshop."
      ]
    }
  ]
}