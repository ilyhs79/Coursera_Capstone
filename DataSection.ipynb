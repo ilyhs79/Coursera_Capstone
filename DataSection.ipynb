{
  "nbformat": 4,
  "nbformat_minor": 0,
  "metadata": {
    "colab": {
      "name": "DataSection.ipynb",
      "provenance": [],
      "authorship_tag": "ABX9TyPpPtT3sEEMNSueS+8hnJAm"
    },
    "kernelspec": {
      "name": "python3",
      "display_name": "Python 3"
    }
  },
  "cells": [
    {
      "cell_type": "markdown",
      "metadata": {
        "id": "JZLwkuG-A93w",
        "colab_type": "text"
      },
      "source": [
        "#### Data Section"
      ]
    },
    {
      "cell_type": "markdown",
      "metadata": {
        "id": "Bvzjw14yBJOD",
        "colab_type": "text"
      },
      "source": [
        "In order to recommend a good place to open a new coffee shop, I will search all venues related with coffee in all postal codes in Toronto, get recommendation data of them, and retrive number of users who like them from FourSquare. I will select the place of having many number of recommendation and likes, because it means that lots of people come to the place for a cup of coffee."
      ]
    }
  ]
}