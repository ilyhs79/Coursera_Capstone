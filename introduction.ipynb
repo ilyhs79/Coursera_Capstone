{
  "nbformat": 4,
  "nbformat_minor": 0,
  "metadata": {
    "colab": {
      "name": "introduction.ipynb",
      "provenance": [],
      "authorship_tag": "ABX9TyO8rG6+Z5NRysmcB3z4D6ga"
    },
    "kernelspec": {
      "name": "python3",
      "display_name": "Python 3"
    }
  },
  "cells": [
    {
      "cell_type": "code",
      "metadata": {
        "id": "t_B0iiCi_v8q",
        "colab_type": "code",
        "colab": {}
      },
      "source": [
        ""
      ],
      "execution_count": 0,
      "outputs": []
    },
    {
      "cell_type": "markdown",
      "metadata": {
        "id": "aNdfYs8S_wkW",
        "colab_type": "text"
      },
      "source": [
        "#### Introduction/Business Problem"
      ]
    },
    {
      "cell_type": "markdown",
      "metadata": {
        "id": "3QXmRRg-_9sC",
        "colab_type": "text"
      },
      "source": [
        "In the city of Toronto, if someone is looking to open a coffee shop, where would you recommend that they open it?"
      ]
    },
    {
      "cell_type": "code",
      "metadata": {
        "id": "oVH5cdiiAr3G",
        "colab_type": "code",
        "colab": {}
      },
      "source": [
        ""
      ],
      "execution_count": 0,
      "outputs": []
    }
  ]
}